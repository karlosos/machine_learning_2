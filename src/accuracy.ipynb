{
 "cells": [
  {
   "cell_type": "markdown",
   "metadata": {},
   "source": [
    "# Obliczenie dokładności na całych obrazach"
   ]
  },
  {
   "cell_type": "markdown",
   "metadata": {},
   "source": [
    "### Wczytywanie koordynatów rzeczywistych i przewidzianych dla wszystkich obrazów"
   ]
  },
  {
   "cell_type": "code",
   "execution_count": 1,
   "metadata": {},
   "outputs": [],
   "source": [
    "from validating_all_images import fddb_data"
   ]
  },
  {
   "cell_type": "code",
   "execution_count": 2,
   "metadata": {},
   "outputs": [],
   "source": [
    "import warnings\n",
    "warnings.filterwarnings('ignore')\n",
    "warnings.simplefilter('ignore')"
   ]
  },
  {
   "cell_type": "code",
   "execution_count": 3,
   "metadata": {},
   "outputs": [],
   "source": [
    "coords = fddb_data(\"c:/Dev/machine_learning_2/data/\", show_images=False, verbose=False)"
   ]
  },
  {
   "cell_type": "code",
   "execution_count": 4,
   "metadata": {},
   "outputs": [],
   "source": [
    "import numpy as np\n",
    "coords = np.array(coords, dtype=object)"
   ]
  },
  {
   "cell_type": "markdown",
   "metadata": {},
   "source": [
    "Pierwsza wartość to liczba wierszy, czyli liczba sprawdzonych obrzków.\n",
    "Druga wartość to liczba kolumn. Pierwsza kolumna to nazwa pliku, druga kolumna to rzeczywiste bounding_boxes wczytane z plików, trzecia kolumna to bounding_boxes wraz z wartościami decyzji z detekcji na naszym modelu RealBoost."
   ]
  },
  {
   "cell_type": "code",
   "execution_count": 5,
   "metadata": {},
   "outputs": [
    {
     "data": {
      "text/plain": [
       "(8, 3)"
      ]
     },
     "execution_count": 5,
     "metadata": {},
     "output_type": "execute_result"
    }
   ],
   "source": [
    "coords.shape"
   ]
  },
  {
   "cell_type": "markdown",
   "metadata": {},
   "source": [
    "Pierwsza kolumna - nazwa pliku. Przyda się do późniejszego rysowania prostokątów."
   ]
  },
  {
   "cell_type": "code",
   "execution_count": 6,
   "metadata": {},
   "outputs": [
    {
     "data": {
      "text/plain": [
       "'c:/Dev/machine_learning_2/data/2002/07/22/big/img_43.jpg'"
      ]
     },
     "execution_count": 6,
     "metadata": {},
     "output_type": "execute_result"
    }
   ],
   "source": [
    "coords[0][0]"
   ]
  },
  {
   "cell_type": "markdown",
   "metadata": {},
   "source": [
    "Druga kolumna - rzeczywiste bounding boxes. W formacie:\n",
    "\n",
    "```\n",
    "np.array([j0, k0, j0 + w - 1, k0 + w - 1])\n",
    "```\n",
    "\n",
    "Aby wyrysować taki bounding box będziemy używać:\n",
    "\n",
    "```\n",
    "p1 = (k0, j0)\n",
    "p2 = (k0 + w - 1, j0 + w - 1)\n",
    "cv2.rectangle(i0, p1, p2, (0, 0, 255), 1)\n",
    "cv2.imshow(\"FDDB\", i0)\n",
    "```"
   ]
  },
  {
   "cell_type": "code",
   "execution_count": 7,
   "metadata": {},
   "outputs": [
    {
     "data": {
      "text/plain": [
       "[array([ 53, 185, 155, 287])]"
      ]
     },
     "execution_count": 7,
     "metadata": {},
     "output_type": "execute_result"
    }
   ],
   "source": [
    "coords[0][1]"
   ]
  },
  {
   "cell_type": "markdown",
   "metadata": {},
   "source": [
    "Trzecia kolumna - wykryte bounding boxes. Do rysowania tych bounding boxów użyjemy funkcji `draw_bounding_boxes`.\n",
    "\n",
    "```\n",
    "i0 = draw_bounding_boxes(i0, detections, color=(54, 193, 56), thickness=1)\n",
    "cv2.imshow(\"FDDB\", i0)\n",
    "cv2.waitKey(0)\n",
    "```"
   ]
  },
  {
   "cell_type": "code",
   "execution_count": 8,
   "metadata": {},
   "outputs": [
    {
     "data": {
      "text/plain": [
       "[(277, 115, 64, 3.052386965496715),\n",
       " (183, 45, 92, 4.027927659992461),\n",
       " (183, 54, 92, 4.0595346839655795),\n",
       " (192, 63, 92, 4.1576029966860375),\n",
       " (169, 45, 111, 4.501656264642891),\n",
       " (180, 45, 111, 5.635670238094397),\n",
       " (169, 56, 111, 4.195243147770823),\n",
       " (180, 56, 111, 4.271654083872954)]"
      ]
     },
     "execution_count": 8,
     "metadata": {},
     "output_type": "execute_result"
    }
   ],
   "source": [
    "coords[0][2]"
   ]
  },
  {
   "cell_type": "markdown",
   "metadata": {},
   "source": [
    "### Uśrednianie wykrytych prostokątów\n",
    "\n",
    "#### Progowanie\n",
    "\n",
    "Wykryte prostokąty należy najpierw sprogować, czyli przefiltrować po danym progu. Wszystkie wykryte prostokąty to takie z wartością funkcji decyzyjnej $\\gt 0$. Czemu tak? Żeby wygenerować wszystkie dane i móc sterować progiem decyzyjnym już po przeanalizowaniu wszystkich obrazków."
   ]
  },
  {
   "cell_type": "code",
   "execution_count": 28,
   "metadata": {},
   "outputs": [],
   "source": [
    "def reduce_by_threshold(image_row, **kwargs):\n",
    "    threshold = kwargs['threshold']\n",
    "    detections = np.array(image_row[2])\n",
    "    if detections.ndim == 1:\n",
    "        return (image_row[0], image_row[1], detections)\n",
    "    \n",
    "    detections_reduced = detections[np.where(detections[:, 3] > threshold)]\n",
    "    return (image_row[0], image_row[1], detections_reduced)\n",
    "\n",
    "coords_filtered = np.apply_along_axis(reduce_by_threshold, 1, coords, threshold=5)"
   ]
  },
  {
   "cell_type": "markdown",
   "metadata": {},
   "source": [
    "#### Uśrednianie\n",
    "\n",
    "Uśrednianie prostokątów już po filtracji wybranym progiem."
   ]
  },
  {
   "cell_type": "code",
   "execution_count": 30,
   "metadata": {},
   "outputs": [
    {
     "data": {
      "text/plain": [
       "array([['c:/Dev/machine_learning_2/data/2002/07/22/big/img_43.jpg',\n",
       "        list([array([ 53, 185, 155, 287])]),\n",
       "        list([(180, 45, 111, 5.635670238094397)])],\n",
       "       ['c:/Dev/machine_learning_2/data/2002/07/26/big/img_634.jpg',\n",
       "        list([array([ 56, 116, 142, 202]), array([ 55, 260, 141, 346])]),\n",
       "        list([(255, 55, 92, 5.536743062695408)])],\n",
       "       ['c:/Dev/machine_learning_2/data/2002/07/19/big/img_843.jpg',\n",
       "        list([array([ 61,  55, 169, 163]), array([ 26, 223,  90, 287]), array([ 54, 326, 160, 432])]),\n",
       "        list([(59, 60, 111, 6.018710650164764)])],\n",
       "       ['c:/Dev/machine_learning_2/data/2002/08/26/big/img_58.jpg',\n",
       "        list([array([ 25,  96, 105, 176])]), list([])],\n",
       "       ['c:/Dev/machine_learning_2/data/2002/08/31/big/img_18008.jpg',\n",
       "        list([array([ 80, 160, 163, 243]), array([ 93, 253, 173, 333]), array([135, 358, 200, 423])]),\n",
       "        list([])],\n",
       "       ['c:/Dev/machine_learning_2/data/2002/08/22/big/img_249.jpg',\n",
       "        list([array([ 32,  64, 170, 202])]), list([])],\n",
       "       ['c:/Dev/machine_learning_2/data/2002/08/17/big/img_971.jpg',\n",
       "        list([array([ 90,  82, 199, 191])]),\n",
       "        list([(82, 103, 111, 6.8262751268289765)])],\n",
       "       ['c:/Dev/machine_learning_2/data/2002/08/04/big/img_308.jpg',\n",
       "        list([array([ 31, 103, 147, 219])]), list([])]], dtype=object)"
      ]
     },
     "execution_count": 30,
     "metadata": {},
     "output_type": "execute_result"
    }
   ],
   "source": [
    "from haar_students_new import non_max_suppression\n",
    "\n",
    "def bounding_boxes_reduction(image_row):\n",
    "    detections = image_row[2]\n",
    "    detections_reduced = non_max_suppression(detections, treshold=0.1)\n",
    "    return (image_row[0], image_row[1], detections_reduced)\n",
    "\n",
    "coords_suppresion = np.apply_along_axis(bounding_boxes_reduction, 1, coords_filtered)\n",
    "coords_suppresion"
   ]
  },
  {
   "cell_type": "markdown",
   "metadata": {},
   "source": [
    "### Obliczanie dokładności na danych\n",
    "\n",
    "Dla każdego uśrednionego prostokąta sprawdzamy czy się pokrywa z innym zgodnie z wymaganiem `iou > 0.5`. "
   ]
  },
  {
   "cell_type": "code",
   "execution_count": null,
   "metadata": {},
   "outputs": [],
   "source": []
  }
 ],
 "metadata": {
  "kernelspec": {
   "display_name": "Python 3",
   "language": "python",
   "name": "python3"
  },
  "language_info": {
   "codemirror_mode": {
    "name": "ipython",
    "version": 3
   },
   "file_extension": ".py",
   "mimetype": "text/x-python",
   "name": "python",
   "nbconvert_exporter": "python",
   "pygments_lexer": "ipython3",
   "version": "3.7.4"
  }
 },
 "nbformat": 4,
 "nbformat_minor": 4
}
