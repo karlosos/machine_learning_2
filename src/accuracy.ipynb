{
 "cells": [
  {
   "cell_type": "markdown",
   "metadata": {},
   "source": [
    "# Obliczenie dokładności na całych obrazach"
   ]
  },
  {
   "cell_type": "markdown",
   "metadata": {},
   "source": [
    "### Wczytywanie koordynatów rzeczywistych i przewidzianych dla wszystkich obrazów"
   ]
  },
  {
   "cell_type": "code",
   "execution_count": 1,
   "metadata": {},
   "outputs": [],
   "source": [
    "from validating_all_images import fddb_data"
   ]
  },
  {
   "cell_type": "code",
   "execution_count": 2,
   "metadata": {},
   "outputs": [],
   "source": [
    "import warnings\n",
    "warnings.filterwarnings('ignore')\n",
    "warnings.simplefilter('ignore')"
   ]
  },
  {
   "cell_type": "code",
   "execution_count": 3,
   "metadata": {},
   "outputs": [],
   "source": [
    "coords = fddb_data(\"/home/wojtek/Dokumenty/machine_learning_2/data/\", show_images=False, verbose=False)"
   ]
  },
  {
   "cell_type": "code",
   "execution_count": 4,
   "metadata": {},
   "outputs": [],
   "source": [
    "import numpy as np\n",
    "coords = np.array(coords, dtype=object)"
   ]
  },
  {
   "cell_type": "markdown",
   "metadata": {},
   "source": [
    "Pierwsza wartość to liczba wierszy, czyli liczba sprawdzonych obrzków.\n",
    "Druga wartość to liczba kolumn. Pierwsza kolumna to nazwa pliku, druga kolumna to rzeczywiste bounding_boxes wczytane z plików, trzecia kolumna to bounding_boxes wraz z wartościami decyzji z detekcji na naszym modelu RealBoost."
   ]
  },
  {
   "cell_type": "code",
   "execution_count": 5,
   "metadata": {},
   "outputs": [
    {
     "data": {
      "text/plain": [
       "(8, 3)"
      ]
     },
     "execution_count": 5,
     "metadata": {},
     "output_type": "execute_result"
    }
   ],
   "source": [
    "coords.shape"
   ]
  },
  {
   "cell_type": "markdown",
   "metadata": {},
   "source": [
    "Pierwsza kolumna - nazwa pliku. Przyda się do późniejszego rysowania prostokątów."
   ]
  },
  {
   "cell_type": "code",
   "execution_count": 6,
   "metadata": {},
   "outputs": [
    {
     "data": {
      "text/plain": [
       "'/home/wojtek/Dokumenty/machine_learning_2/data/2002/07/22/big/img_43.jpg'"
      ]
     },
     "execution_count": 6,
     "metadata": {},
     "output_type": "execute_result"
    }
   ],
   "source": [
    "coords[0][0]"
   ]
  },
  {
   "cell_type": "markdown",
   "metadata": {},
   "source": [
    "Druga kolumna - rzeczywiste bounding boxes. W formacie:\n",
    "\n",
    "```\n",
    "np.array([j0, k0, j0 + w - 1, k0 + w - 1])\n",
    "```\n",
    "\n",
    "Aby wyrysować taki bounding box będziemy używać:\n",
    "\n",
    "```\n",
    "p1 = (k0, j0)\n",
    "p2 = (k0 + w - 1, j0 + w - 1)\n",
    "cv2.rectangle(i0, p1, p2, (0, 0, 255), 1)\n",
    "cv2.imshow(\"FDDB\", i0)\n",
    "```"
   ]
  },
  {
   "cell_type": "code",
   "execution_count": 7,
   "metadata": {},
   "outputs": [
    {
     "data": {
      "text/plain": [
       "[array([ 53, 185, 155, 287])]"
      ]
     },
     "execution_count": 7,
     "metadata": {},
     "output_type": "execute_result"
    }
   ],
   "source": [
    "coords[0][1]"
   ]
  },
  {
   "cell_type": "markdown",
   "metadata": {},
   "source": [
    "Trzecia kolumna - wykryte bounding boxes. Do rysowania tych bounding boxów użyjemy funkcji `draw_bounding_boxes`.\n",
    "\n",
    "```\n",
    "i0 = draw_bounding_boxes(i0, detections, color=(54, 193, 56), thickness=1)\n",
    "cv2.imshow(\"FDDB\", i0)\n",
    "cv2.waitKey(0)\n",
    "```"
   ]
  },
  {
   "cell_type": "code",
   "execution_count": 8,
   "metadata": {},
   "outputs": [
    {
     "data": {
      "text/plain": [
       "[(277, 115, 64, 3.052386965496715),\n",
       " (183, 45, 92, 4.027927659992461),\n",
       " (183, 54, 92, 4.0595346839655795),\n",
       " (192, 63, 92, 4.1576029966860375),\n",
       " (169, 45, 111, 4.501656264642891),\n",
       " (180, 45, 111, 5.635670238094397),\n",
       " (169, 56, 111, 4.195243147770823),\n",
       " (180, 56, 111, 4.271654083872954)]"
      ]
     },
     "execution_count": 8,
     "metadata": {},
     "output_type": "execute_result"
    }
   ],
   "source": [
    "coords[0][2]"
   ]
  },
  {
   "cell_type": "markdown",
   "metadata": {},
   "source": [
    "### Uśrednianie wykrytych prostokątów\n",
    "\n",
    "#### Progowanie\n",
    "\n",
    "Wykryte prostokąty należy najpierw sprogować, czyli przefiltrować po danym progu. Wszystkie wykryte prostokąty to takie z wartością funkcji decyzyjnej $\\gt 0$. Czemu tak? Żeby wygenerować wszystkie dane i móc sterować progiem decyzyjnym już po przeanalizowaniu wszystkich obrazków."
   ]
  },
  {
   "cell_type": "code",
   "execution_count": null,
   "metadata": {},
   "outputs": [],
   "source": []
  },
  {
   "cell_type": "markdown",
   "metadata": {},
   "source": [
    "#### Uśrednianie\n",
    "\n",
    "Uśrednianie prostokątów już po filtracji wybranym progiem."
   ]
  },
  {
   "cell_type": "code",
   "execution_count": null,
   "metadata": {},
   "outputs": [],
   "source": []
  },
  {
   "cell_type": "markdown",
   "metadata": {},
   "source": [
    "### Obliczanie dokładności na danych\n",
    "\n",
    "Dla każdego uśrednionego prostokąta sprawdzamy czy się pokrywa z innym zgodnie z wymaganiem `iou > 0.5`. "
   ]
  },
  {
   "cell_type": "code",
   "execution_count": null,
   "metadata": {},
   "outputs": [],
   "source": []
  }
 ],
 "metadata": {
  "kernelspec": {
   "display_name": "Python 3",
   "language": "python",
   "name": "python3"
  },
  "language_info": {
   "codemirror_mode": {
    "name": "ipython",
    "version": 3
   },
   "file_extension": ".py",
   "mimetype": "text/x-python",
   "name": "python",
   "nbconvert_exporter": "python",
   "pygments_lexer": "ipython3",
<<<<<<< HEAD
   "version": "3.8.5"
=======
   "version": "3.7.4"
>>>>>>> 1b996607d5352ffcb7ef263605cab535de6831fb
  }
 },
 "nbformat": 4,
 "nbformat_minor": 4
}
