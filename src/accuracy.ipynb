{
 "cells": [
  {
   "cell_type": "markdown",
   "metadata": {},
   "source": [
    "# Obliczenie dokładności na całych obrazach"
   ]
  },
  {
   "cell_type": "markdown",
   "metadata": {},
   "source": [
    "### Wczytywanie koordynatów rzeczywistych i przewidzianych dla wszystkich obrazów"
   ]
  },
  {
   "cell_type": "code",
   "execution_count": 1,
   "metadata": {},
   "outputs": [],
   "source": [
    "from validating_all_images import fddb_data"
   ]
  },
  {
   "cell_type": "code",
   "execution_count": 2,
   "metadata": {},
   "outputs": [],
   "source": [
    "import warnings\n",
    "warnings.filterwarnings('ignore')\n",
    "warnings.simplefilter('ignore')"
   ]
  },
  {
   "cell_type": "code",
   "execution_count": null,
   "metadata": {},
   "outputs": [],
   "source": [
    "coords = fddb_data(\"c:/Dev/machine_learning_2/data/\", show_images=False, verbose=False)"
   ]
  },
  {
   "cell_type": "code",
   "execution_count": null,
   "metadata": {},
   "outputs": [],
   "source": [
    "import numpy as np\n",
    "coords = np.array(coords, dtype=object)"
   ]
  },
  {
   "cell_type": "markdown",
   "metadata": {},
   "source": [
    "Pierwsza wartość to liczba wierszy, czyli liczba sprawdzonych obrzków.\n",
    "Druga wartość to liczba kolumn. Pierwsza kolumna to nazwa pliku, druga kolumna to rzeczywiste bounding_boxes wczytane z plików, trzecia kolumna to bounding_boxes wraz z wartościami decyzji z detekcji na naszym modelu RealBoost."
   ]
  },
  {
   "cell_type": "code",
   "execution_count": null,
   "metadata": {},
   "outputs": [],
   "source": [
    "coords.shape"
   ]
  },
  {
   "cell_type": "markdown",
   "metadata": {},
   "source": [
    "Pierwsza kolumna - nazwa pliku. Przyda się do późniejszego rysowania prostokątów."
   ]
  },
  {
   "cell_type": "code",
   "execution_count": null,
   "metadata": {},
   "outputs": [],
   "source": [
    "coords[0][0]"
   ]
  },
  {
   "cell_type": "markdown",
   "metadata": {},
   "source": [
    "Druga kolumna - rzeczywiste bounding boxes. W formacie:\n",
    "\n",
    "```\n",
    "np.array([j0, k0, j0 + w - 1, k0 + w - 1])\n",
    "```\n",
    "\n",
    "Aby wyrysować taki bounding box będziemy używać:\n",
    "\n",
    "```\n",
    "p1 = (k0, j0)\n",
    "p2 = (k0 + w - 1, j0 + w - 1)\n",
    "cv2.rectangle(i0, p1, p2, (0, 0, 255), 1)\n",
    "cv2.imshow(\"FDDB\", i0)\n",
    "```"
   ]
  },
  {
   "cell_type": "code",
   "execution_count": null,
   "metadata": {},
   "outputs": [],
   "source": [
    "coords[0][1]"
   ]
  },
  {
   "cell_type": "markdown",
   "metadata": {},
   "source": [
    "Trzecia kolumna - wykryte bounding boxes. Do rysowania tych bounding boxów użyjemy funkcji `draw_bounding_boxes`.\n",
    "\n",
    "```\n",
    "i0 = draw_bounding_boxes(i0, detections, color=(54, 193, 56), thickness=1)\n",
    "cv2.imshow(\"FDDB\", i0)\n",
    "cv2.waitKey(0)\n",
    "```"
   ]
  },
  {
   "cell_type": "code",
   "execution_count": null,
   "metadata": {},
   "outputs": [],
   "source": [
    "coords[0][2]"
   ]
  },
  {
   "cell_type": "markdown",
   "metadata": {},
   "source": [
    "### Uśrednianie wykrytych prostokątów\n",
    "\n",
    "#### Progowanie\n",
    "\n",
    "Wykryte prostokąty należy najpierw sprogować, czyli przefiltrować po danym progu. Wszystkie wykryte prostokąty to takie z wartością funkcji decyzyjnej $\\gt 0$. Czemu tak? Żeby wygenerować wszystkie dane i móc sterować progiem decyzyjnym już po przeanalizowaniu wszystkich obrazków."
   ]
  },
  {
   "cell_type": "code",
   "execution_count": null,
   "metadata": {},
   "outputs": [],
   "source": []
  },
  {
   "cell_type": "markdown",
   "metadata": {},
   "source": [
    "#### Uśrednianie\n",
    "\n",
    "Uśrednianie prostokątów już po filtracji wybranym progiem."
   ]
  },
  {
   "cell_type": "code",
   "execution_count": null,
   "metadata": {},
   "outputs": [],
   "source": []
  },
  {
   "cell_type": "markdown",
   "metadata": {},
   "source": [
    "### Obliczanie dokładności na danych\n",
    "\n",
    "Dla każdego uśrednionego prostokąta sprawdzamy czy się pokrywa z innym zgodnie z wymaganiem `iou > 0.5`. "
   ]
  },
  {
   "cell_type": "code",
   "execution_count": null,
   "metadata": {},
   "outputs": [],
   "source": []
  }
 ],
 "metadata": {
  "kernelspec": {
   "display_name": "Python 3",
   "language": "python",
   "name": "python3"
  },
  "language_info": {
   "codemirror_mode": {
    "name": "ipython",
    "version": 3
   },
   "file_extension": ".py",
   "mimetype": "text/x-python",
   "name": "python",
   "nbconvert_exporter": "python",
   "pygments_lexer": "ipython3",
   "version": "3.7.4"
  }
 },
 "nbformat": 4,
 "nbformat_minor": 4
}
