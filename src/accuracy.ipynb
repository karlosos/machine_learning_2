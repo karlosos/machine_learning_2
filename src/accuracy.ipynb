{
 "cells": [
  {
   "cell_type": "markdown",
   "metadata": {},
   "source": [
    "# Obliczenie dokładności na całych obrazach"
   ]
  },
  {
   "cell_type": "markdown",
   "metadata": {},
   "source": [
    "### Wczytywanie koordynatów rzeczywistych i przewidzianych dla wszystkich obrazów"
   ]
  },
  {
   "cell_type": "code",
   "execution_count": 1,
   "metadata": {},
   "outputs": [],
   "source": [
    "from validating_all_images import fddb_data"
   ]
  },
  {
   "cell_type": "code",
   "execution_count": 2,
   "metadata": {},
   "outputs": [],
   "source": [
    "import warnings\n",
    "warnings.filterwarnings('ignore')\n",
    "warnings.simplefilter('ignore')"
   ]
  },
  {
   "cell_type": "code",
   "execution_count": 3,
   "metadata": {},
   "outputs": [],
   "source": [
    "coords = fddb_data(\"c:/Dev/machine_learning_2/data/\", show_images=False, verbose=False)"
   ]
  },
  {
   "cell_type": "code",
   "execution_count": 4,
   "metadata": {},
   "outputs": [],
   "source": [
    "import numpy as np\n",
    "coords = np.array(coords, dtype=object)"
   ]
  },
  {
   "cell_type": "markdown",
   "metadata": {},
   "source": [
    "Pierwsza wartość to liczba wierszy, czyli liczba sprawdzonych obrzków.\n",
    "Druga wartość to liczba kolumn. Pierwsza kolumna to nazwa pliku, druga kolumna to rzeczywiste bounding_boxes wczytane z plików, trzecia kolumna to bounding_boxes wraz z wartościami decyzji z detekcji na naszym modelu RealBoost."
   ]
  },
  {
   "cell_type": "code",
   "execution_count": 5,
   "metadata": {},
   "outputs": [
    {
     "data": {
      "text/plain": [
       "(11, 3)"
      ]
     },
     "execution_count": 5,
     "metadata": {},
     "output_type": "execute_result"
    }
   ],
   "source": [
    "coords.shape"
   ]
  },
  {
   "cell_type": "markdown",
   "metadata": {},
   "source": [
    "Pierwsza kolumna - nazwa pliku. Przyda się do późniejszego rysowania prostokątów."
   ]
  },
  {
   "cell_type": "code",
   "execution_count": 6,
   "metadata": {},
   "outputs": [
    {
     "data": {
      "text/plain": [
       "'c:/Dev/machine_learning_2/data/2002/08/31/big/img_18008.jpg'"
      ]
     },
     "execution_count": 6,
     "metadata": {},
     "output_type": "execute_result"
    }
   ],
   "source": [
    "coords[0][0]"
   ]
  },
  {
   "cell_type": "markdown",
   "metadata": {},
   "source": [
    "Druga kolumna - rzeczywiste bounding boxes. W formacie:\n",
    "\n",
    "```\n",
    "np.array([j0, k0, j0 + w - 1, k0 + w - 1])\n",
    "```\n",
    "\n",
    "Aby wyrysować taki bounding box będziemy używać:\n",
    "\n",
    "```\n",
    "p1 = (k0, j0)\n",
    "p2 = (k0 + w - 1, j0 + w - 1)\n",
    "cv2.rectangle(i0, p1, p2, (0, 0, 255), 1)\n",
    "cv2.imshow(\"FDDB\", i0)\n",
    "```"
   ]
  },
  {
   "cell_type": "code",
   "execution_count": 7,
   "metadata": {},
   "outputs": [
    {
     "data": {
      "text/plain": [
       "[array([ 80, 160, 163, 243]),\n",
       " array([ 93, 253, 173, 333]),\n",
       " array([135, 358, 200, 423])]"
      ]
     },
     "execution_count": 7,
     "metadata": {},
     "output_type": "execute_result"
    }
   ],
   "source": [
    "coords[0][1]"
   ]
  },
  {
   "cell_type": "markdown",
   "metadata": {},
   "source": [
    "Trzecia kolumna - wykryte bounding boxes. Do rysowania tych bounding boxów użyjemy funkcji `draw_bounding_boxes`.\n",
    "\n",
    "```\n",
    "i0 = draw_bounding_boxes(i0, detections, color=(54, 193, 56), thickness=1)\n",
    "cv2.imshow(\"FDDB\", i0)\n",
    "cv2.waitKey(0)\n",
    "```"
   ]
  },
  {
   "cell_type": "code",
   "execution_count": 8,
   "metadata": {},
   "outputs": [
    {
     "data": {
      "text/plain": [
       "[(170, 90, 77, 3.088884474057463),\n",
       " (258, 98, 77, 4.1719872791425106),\n",
       " (74, 194, 77, 3.2760263724187846),\n",
       " (255, 81, 92, 3.737369740285834),\n",
       " (246, 90, 92, 3.2804569915618407),\n",
       " (255, 90, 92, 4.295105309498881),\n",
       " (169, 67, 111, 3.5541449345575797)]"
      ]
     },
     "execution_count": 8,
     "metadata": {},
     "output_type": "execute_result"
    }
   ],
   "source": [
    "coords[0][2]"
   ]
  },
  {
   "cell_type": "markdown",
   "metadata": {},
   "source": [
    "### Uśrednianie wykrytych prostokątów\n",
    "\n",
    "#### Progowanie\n",
    "\n",
    "Wykryte prostokąty należy najpierw sprogować, czyli przefiltrować po danym progu. Wszystkie wykryte prostokąty to takie z wartością funkcji decyzyjnej $\\gt 0$. Czemu tak? Żeby wygenerować wszystkie dane i móc sterować progiem decyzyjnym już po przeanalizowaniu wszystkich obrazków."
   ]
  },
  {
   "cell_type": "code",
   "execution_count": 9,
   "metadata": {},
   "outputs": [],
   "source": [
    "def reduce_by_threshold(image_row, **kwargs):\n",
    "    threshold = kwargs['threshold']\n",
    "    detections = np.array(image_row[2], dtype='int')\n",
    "    if detections.ndim == 1:\n",
    "        return (image_row[0], image_row[1], detections)\n",
    "    \n",
    "    detections_reduced = detections[np.where(detections[:, 3] > threshold)]\n",
    "    return (image_row[0], image_row[1], detections_reduced)\n",
    "\n",
    "coords_filtered = np.apply_along_axis(reduce_by_threshold, 1, coords, threshold=2)"
   ]
  },
  {
   "cell_type": "markdown",
   "metadata": {},
   "source": [
    "#### Uśrednianie\n",
    "\n",
    "Uśrednianie prostokątów już po filtracji wybranym progiem."
   ]
  },
  {
   "cell_type": "code",
   "execution_count": 10,
   "metadata": {},
   "outputs": [
    {
     "data": {
      "text/plain": [
       "array([['c:/Dev/machine_learning_2/data/2002/08/31/big/img_18008.jpg',\n",
       "        list([array([ 80, 160, 163, 243]), array([ 93, 253, 173, 333]), array([135, 358, 200, 423])]),\n",
       "        list([(258, 98, 77, 4), (170, 90, 77, 3), (74, 194, 77, 3)])],\n",
       "       ['c:/Dev/machine_learning_2/data/2002/08/22/big/img_249.jpg',\n",
       "        list([array([ 32,  64, 170, 202])]), list([(90, 59, 111, 3)])],\n",
       "       ['c:/Dev/machine_learning_2/data/2002/08/17/big/img_971.jpg',\n",
       "        list([array([ 90,  82, 199, 191])]), list([(93, 120, 92, 6)])],\n",
       "       ['c:/Dev/machine_learning_2/data/2002/08/04/big/img_308.jpg',\n",
       "        list([array([ 31, 103, 147, 219])]),\n",
       "        list([(271, 204, 64, 3), (218, 152, 77, 3)])],\n",
       "       ['c:/Dev/machine_learning_2/data/2002/07/28/big/img_362.jpg',\n",
       "        list([array([ 50,  86, 209, 245])]),\n",
       "        list([(108, 289, 64, 3), (108, 93, 92, 3)])],\n",
       "       ['c:/Dev/machine_learning_2/data/2002/08/12/big/img_142.jpg',\n",
       "        list([array([ 97, 179, 170, 252])]),\n",
       "        list([(180, 109, 64, 4), (288, 133, 64, 3)])],\n",
       "       ['c:/Dev/machine_learning_2/data/2002/08/26/big/img_61.jpg',\n",
       "        list([array([ 82,  28, 316, 262])]), list([])],\n",
       "       ['c:/Dev/machine_learning_2/data/2002/08/14/big/img_422.jpg',\n",
       "        list([array([ 29,  62, 139, 172])]), list([(59, 24, 111, 5)])],\n",
       "       ['c:/Dev/machine_learning_2/data/2002/07/19/big/img_607.jpg',\n",
       "        list([array([ 78,  89, 161, 172]), array([ 33, 172, 102, 241])]),\n",
       "        list([(174, 37, 64, 6), (89, 82, 77, 3)])],\n",
       "       ['c:/Dev/machine_learning_2/data/2003/01/15/big/img_717.jpg',\n",
       "        list([array([229,  21, 336, 128]), array([120, 169, 225, 274])]),\n",
       "        list([(166, 122, 111, 5), (126, 26, 64, 3)])],\n",
       "       ['c:/Dev/machine_learning_2/data/2002/08/01/big/img_1475.jpg',\n",
       "        list([array([ 64,  71, 238, 245])]), list([(90, 111, 92, 3)])]],\n",
       "      dtype=object)"
      ]
     },
     "execution_count": 10,
     "metadata": {},
     "output_type": "execute_result"
    }
   ],
   "source": [
    "from haar_students_new import non_max_suppression\n",
    "\n",
    "def bounding_boxes_reduction(image_row):\n",
    "    detections = image_row[2]\n",
    "    detections_reduced = non_max_suppression(detections, treshold=0.1)\n",
    "    return (image_row[0], image_row[1], detections_reduced)\n",
    "\n",
    "coords_suppresion = np.apply_along_axis(bounding_boxes_reduction, 1, coords_filtered)\n",
    "coords_suppresion"
   ]
  },
  {
   "cell_type": "markdown",
   "metadata": {},
   "source": [
    "### Obliczanie dokładności na danych\n",
    "\n",
    "Dla każdego uśrednionego prostokąta sprawdzamy czy się pokrywa z innym zgodnie z wymaganiem `iou > 0.5`. "
   ]
  },
  {
   "cell_type": "code",
   "execution_count": null,
   "metadata": {},
   "outputs": [],
   "source": []
  },
  {
   "cell_type": "markdown",
   "metadata": {},
   "source": [
    "## Wizualizacja - zapisywanie obrazów z detekcją"
   ]
  },
  {
   "cell_type": "code",
   "execution_count": 11,
   "metadata": {},
   "outputs": [
    {
     "name": "stdout",
     "output_type": "stream",
     "text": [
      "c:/Dev/machine_learning_2/data/2002/08/31/big/img_18008.jpg 3 3\n",
      "c:/Dev/machine_learning_2/data/2002/08/22/big/img_249.jpg 1 1\n",
      "c:/Dev/machine_learning_2/data/2002/08/17/big/img_971.jpg 1 1\n",
      "c:/Dev/machine_learning_2/data/2002/08/04/big/img_308.jpg 1 2\n",
      "c:/Dev/machine_learning_2/data/2002/07/28/big/img_362.jpg 1 2\n",
      "c:/Dev/machine_learning_2/data/2002/08/12/big/img_142.jpg 1 2\n",
      "c:/Dev/machine_learning_2/data/2002/08/26/big/img_61.jpg 1 0\n",
      "c:/Dev/machine_learning_2/data/2002/08/14/big/img_422.jpg 1 1\n",
      "c:/Dev/machine_learning_2/data/2002/07/19/big/img_607.jpg 2 2\n",
      "c:/Dev/machine_learning_2/data/2003/01/15/big/img_717.jpg 2 2\n",
      "c:/Dev/machine_learning_2/data/2002/08/01/big/img_1475.jpg 1 1\n"
     ]
    },
    {
     "data": {
      "text/plain": [
       "array([None, None, None, None, None, None, None, None, None, None, None],\n",
       "      dtype=object)"
      ]
     },
     "execution_count": 11,
     "metadata": {},
     "output_type": "execute_result"
    }
   ],
   "source": [
    "import cv2\n",
    "from haar_students_new import draw_bounding_boxes\n",
    "\n",
    "def batch_drawing(image_row):\n",
    "    file_path = image_row[0]\n",
    "    ground_truth = image_row[1]\n",
    "    detections = image_row[2]\n",
    "    ground_truth = [[bb[1], bb[0], bb[2] - bb[0] - 1, None] for bb in ground_truth]\n",
    "    \n",
    "    i = cv2.imread(file_path)\n",
    "    i = draw_bounding_boxes(i, detections, color=(54, 193, 56), thickness=2)\n",
    "    i = draw_bounding_boxes(i, ground_truth, color=(70, 8, 210), thickness=2)\n",
    "    \n",
    "    cv2.imwrite(file_path+\"_detection.jpg\", i)\n",
    "    \n",
    "    print(file_path, len(ground_truth), len(detections))\n",
    "\n",
    "np.apply_along_axis(batch_drawing, 1, coords_suppresion)"
   ]
  },
  {
   "cell_type": "code",
   "execution_count": null,
   "metadata": {},
   "outputs": [],
   "source": []
  }
 ],
 "metadata": {
  "kernelspec": {
   "display_name": "Python 3",
   "language": "python",
   "name": "python3"
  },
  "language_info": {
   "codemirror_mode": {
    "name": "ipython",
    "version": 3
   },
   "file_extension": ".py",
   "mimetype": "text/x-python",
   "name": "python",
   "nbconvert_exporter": "python",
   "pygments_lexer": "ipython3",
   "version": "3.7.4"
  }
 },
 "nbformat": 4,
 "nbformat_minor": 4
}
