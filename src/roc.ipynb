{
 "cells": [
  {
   "cell_type": "markdown",
   "metadata": {},
   "source": [
    "# Wyznaczanie krzywej ROC\n",
    "\n",
    "## Przygotowanie  klasyfikatora"
   ]
  },
  {
   "cell_type": "code",
   "execution_count": 40,
   "metadata": {},
   "outputs": [],
   "source": [
    "import numpy as np\n",
    "\n",
    "from haar_students_new import haar_features_indexes, haar_features_coordinates\n",
    "from haar_students_new import unpickle_all\n",
    "from realboostbins import RealBoostBins"
   ]
  },
  {
   "cell_type": "code",
   "execution_count": 41,
   "metadata": {},
   "outputs": [
    {
     "name": "stdout",
     "output_type": "stream",
     "text": [
      "NO. OF HAAR-LIKE FEATURES: 8820\n"
     ]
    },
    {
     "name": "stderr",
     "output_type": "stream",
     "text": [
      "C:\\Dev\\machine_learning_2\\src\\haar_students_new.py:112: VisibleDeprecationWarning: Creating an ndarray from ragged nested sequences (which is a list-or-tuple of lists-or-tuples-or ndarrays with different lengths or shapes) is deprecated. If you meant to do this, you must specify 'dtype=object' when creating the ndarray\n",
      "  return np.array(hfs_coords)\n"
     ]
    }
   ],
   "source": [
    "path_data_root = \"../data/\"\n",
    "path_clfs_root = \"../clfs/\"\n",
    "s = 6\n",
    "p = 4\n",
    "hfs_indexes = haar_features_indexes(s, p)\n",
    "hfs_coords = haar_features_coordinates(hfs_indexes, s, p)\n",
    "n = len(hfs_indexes)\n",
    "print(\"NO. OF HAAR-LIKE FEATURES: \" + str(n))\n",
    "data_description = \"n_\" + str(n) + \"_s_\" + str(s) + \"_p_\" + str(p)\n",
    "path_data = path_data_root + \"fddb_\" + data_description + \".pkl\" # path for Karl\n",
    "# path_data = path_data_root + \"datafddb_\" + data_description + \".pkl\" # path for Wojtas"
   ]
  },
  {
   "cell_type": "markdown",
   "metadata": {},
   "source": [
    "## Podział na część uczącą i testującą"
   ]
  },
  {
   "cell_type": "code",
   "execution_count": 42,
   "metadata": {},
   "outputs": [
    {
     "name": "stdout",
     "output_type": "stream",
     "text": [
      "UNPICKLE...\n",
      "UNPICKLE DONE. [TIME: 1.7359981536865234 s.]\n",
      "X_train: (29863, 8820)\n",
      "y_test: (3269,)\n",
      "X_TRAIN: (29863, 8820) [POSITIVES: 4213]\n",
      "X_TEST: (3269, 8820) [POSITIVES: 469]\n"
     ]
    }
   ],
   "source": [
    "X_train, y_train, X_test, y_test = unpickle_all(path_data)\n",
    "print(f'X_train: {X_train.shape}')\n",
    "print(f'y_test: {y_test.shape}')\n",
    "train_index_pos = np.where(y_train == 1)[0]\n",
    "train_index_neg = np.where(y_train == -1)[0]\n",
    "print(\"X_TRAIN: \" + str(X_train.shape) + \" [POSITIVES: \" + str(train_index_pos.size) + \"]\")\n",
    "test_index_pos = np.where(y_test == 1)[0]\n",
    "test_index_neg = np.where(y_test == -1)[0]\n",
    "print(\"X_TEST: \" + str(X_test.shape) + \" [POSITIVES: \" + str(test_index_pos.size) + \"]\")"
   ]
  },
  {
   "cell_type": "code",
   "execution_count": 43,
   "metadata": {},
   "outputs": [
    {
     "name": "stdout",
     "output_type": "stream",
     "text": [
      "UNPICKLE...\n",
      "UNPICKLE DONE. [TIME: 0.00099945068359375 s.]\n",
      "SELECTED FEATURES 125\n"
     ]
    }
   ],
   "source": [
    "T = 128  # 128 słabych klasyfikatorów\n",
    "B = 8  # maximum depth\n",
    "clf_description = data_description + \"_T_\" + str(T) + \"_B_\" + str(B)\n",
    "path_clf = path_clfs_root + \"fddb_real_\" + clf_description + \".pkl\"\n",
    "# clf = RealBoostBins(T, B)\n",
    "# print(\"LEARNING...\")\n",
    "# t1 = time.time()\n",
    "# clf.fit(X_train, y_train)\n",
    "# t2 = time.time()\n",
    "# print(f\"LEARNING DONE IN {t2 - t1} s.\")\n",
    "# pickle_all(path_clf, [clf])\n",
    "clf = unpickle_all(path_clf)[0]\n",
    "fi = np.unique(clf.features_).astype(\"int32\")\n",
    "print(f\"SELECTED FEATURES {len(fi)}\")"
   ]
  },
  {
   "cell_type": "markdown",
   "metadata": {},
   "source": [
    "## Wyznaczanie krzywej ROC"
   ]
  },
  {
   "cell_type": "code",
   "execution_count": 44,
   "metadata": {},
   "outputs": [],
   "source": [
    "from sklearn import metrics\n",
    "import matplotlib.pyplot as plt\n",
    "import pandas as pd\n",
    "\n",
    "def accuracy_threshold_values(X_test, y_test, clf, log=False):\n",
    "    y_scores = clf.decision_function(X_test)\n",
    "    fpr, tpr, thresholds = metrics.roc_curve(y_test, y_scores)\n",
    "    plt.figure()\n",
    "    lw = 2\n",
    "    plt.plot(fpr, tpr, color='darkorange',\n",
    "             lw=lw)\n",
    "    plt.xlabel('False Positive Rate')\n",
    "    plt.ylabel('True Positive Rate')\n",
    "    plt.ylim([0.0, 1.05])\n",
    "    if log:\n",
    "        plt.xscale('log')\n",
    "    else:\n",
    "        plt.xlim([0.0, 1.0])\n",
    "        plt.plot([0, 1], [0, 1], color='navy', lw=lw, linestyle='--') \n",
    "    plt.show()\n",
    "\n",
    "    print(f'accuracy_threshold_values DONE')\n",
    "    return fpr, tpr, thresholds"
   ]
  },
  {
   "cell_type": "code",
   "execution_count": 45,
   "metadata": {},
   "outputs": [
    {
     "data": {
      "image/png": "[encoded data removed]",
      "text/plain": [
       "<Figure size 432x288 with 1 Axes>"
      ]
     },
     "metadata": {
      "needs_background": "light"
     },
     "output_type": "display_data"
    },
    {
     "name": "stdout",
     "output_type": "stream",
     "text": [
      "accuracy_threshold_values DONE\n"
     ]
    }
   ],
   "source": [
    "fpr, tpr, thresholds = accuracy_threshold_values(X_test, y_test, clf)"
   ]
  },
  {
   "cell_type": "code",
   "execution_count": 46,
   "metadata": {},
   "outputs": [
    {
     "data": {
      "image/png": "[encoded data removed]",
      "text/plain": [
       "<Figure size 432x288 with 1 Axes>"
      ]
     },
     "metadata": {
      "needs_background": "light"
     },
     "output_type": "display_data"
    },
    {
     "name": "stdout",
     "output_type": "stream",
     "text": [
      "accuracy_threshold_values DONE\n"
     ]
    }
   ],
   "source": [
    "fpr, tpr, thresholds = accuracy_threshold_values(X_test, y_test, clf, log=True)"
   ]
  },
  {
   "cell_type": "markdown",
   "metadata": {},
   "source": [
    "## Próg dla najlepszej dokładności z krzywej ROC"
   ]
  },
  {
   "cell_type": "code",
   "execution_count": 47,
   "metadata": {},
   "outputs": [],
   "source": [
    "# https://albertusk95.github.io/posts/2019/12/best-threshold-maximize-accuracy-from-roc-pr-curve/\n",
    "def best_threshold_from_roc_curve(tpr, fpr, thresholds, num_pos_class, num_neg_class):\n",
    "    tp = tpr * num_pos_class\n",
    "    tn = (1 - fpr) * num_neg_class\n",
    "    acc = (tp + tn) / (num_pos_class + num_neg_class)\n",
    "\n",
    "    best_threshold = thresholds[np.argmax(acc)]\n",
    "    return best_threshold, np.max(acc), acc"
   ]
  },
  {
   "cell_type": "code",
   "execution_count": 48,
   "metadata": {},
   "outputs": [
    {
     "name": "stdout",
     "output_type": "stream",
     "text": [
      "Maximal accuracy: 9.476249107982936, with 0.8565310492505354 accuracy.\n"
     ]
    }
   ],
   "source": [
    "num_pos_class = np.count_nonzero(y_test == 1)\n",
    "num_neg_class = np.count_nonzero(y_test == -1)\n",
    "best_accuracy_threshold, best_accuracy, acc = best_threshold_from_roc_curve(fpr, tpr, thresholds, num_pos_class, num_neg_class)\n",
    "print(f'Maximal accuracy: {best_accuracy_threshold}, with {best_accuracy} accuracy.')"
   ]
  },
  {
   "cell_type": "code",
   "execution_count": 49,
   "metadata": {},
   "outputs": [
    {
     "data": {
      "text/plain": [
       "0.1675"
      ]
     },
     "execution_count": 49,
     "metadata": {},
     "output_type": "execute_result"
    }
   ],
   "source": [
    "num_pos_class/num_neg_class"
   ]
  },
  {
   "cell_type": "markdown",
   "metadata": {},
   "source": [
    "## Test klasyfikatora"
   ]
  },
  {
   "cell_type": "code",
   "execution_count": 50,
   "metadata": {},
   "outputs": [
    {
     "name": "stdout",
     "output_type": "stream",
     "text": [
      "TRAIN ACC: 0.9675518199778991\n",
      "TEST ACC: 0.9602324869990823\n",
      "TEST SENSITIVITY: 0.8592750533049041\n",
      "TEST FAR: 0.02285714285714291\n"
     ]
    }
   ],
   "source": [
    "import time\n",
    "\n",
    "print(\"TRAIN ACC: \" + str(clf.score(X_train, y_train)))\n",
    "y_test_df = clf.decision_function(X_test)\n",
    "y_test_pred = (y_test_df > 0) * 2 - 1\n",
    "acc = np.sum(y_test == y_test_pred) / len(y_test)\n",
    "print(\"TEST ACC: \" + str(acc))\n",
    "sens = np.sum(y_test[test_index_pos] == y_test_pred[test_index_pos]) / len(test_index_pos)\n",
    "far = 1.0 - np.sum(y_test[test_index_neg] == y_test_pred[test_index_neg]) / len(test_index_neg)\n",
    "print(\"TEST SENSITIVITY: \" + str(sens))\n",
    "print(\"TEST FAR: \" + str(far))"
   ]
  },
  {
   "cell_type": "code",
   "execution_count": 51,
   "metadata": {},
   "outputs": [],
   "source": [
    "accuracies = []\n",
    "sensitivities = []\n",
    "fars = []\n",
    "for t in thresholds:\n",
    "    y_test_pred = (y_test_df > t) * 2 - 1\n",
    "    accuracies.append(np.sum(y_test == y_test_pred) / len(y_test))\n",
    "    sens = np.sum(y_test[test_index_pos] == y_test_pred[test_index_pos]) / len(test_index_pos)\n",
    "    far = 1.0 - np.sum(y_test[test_index_neg] == y_test_pred[test_index_neg]) / len(test_index_neg)\n",
    "    sensitivities.append(sens)\n",
    "    fars.append(far)"
   ]
  },
  {
   "cell_type": "code",
   "execution_count": 52,
   "metadata": {},
   "outputs": [
    {
     "data": {
      "text/plain": [
       "Text(0, 0.5, 'Accuracy')"
      ]
     },
     "execution_count": 52,
     "metadata": {},
     "output_type": "execute_result"
    },
    {
     "data": {
      "image/png": "[encoded data removed]",
      "text/plain": [
       "<Figure size 432x288 with 1 Axes>"
      ]
     },
     "metadata": {
      "needs_background": "light"
     },
     "output_type": "display_data"
    }
   ],
   "source": [
    "plt.plot(thresholds, accuracies)\n",
    "plt.xlabel(\"Threshold\")\n",
    "plt.ylabel(\"Accuracy\")"
   ]
  },
  {
   "cell_type": "code",
   "execution_count": 53,
   "metadata": {},
   "outputs": [
    {
     "data": {
      "text/plain": [
       "Text(0, 0.5, 'Sensitivity')"
      ]
     },
     "execution_count": 53,
     "metadata": {},
     "output_type": "execute_result"
    },
    {
     "data": {
      "image/png": "[encoded data removed]",
      "text/plain": [
       "<Figure size 432x288 with 1 Axes>"
      ]
     },
     "metadata": {
      "needs_background": "light"
     },
     "output_type": "display_data"
    }
   ],
   "source": [
    "plt.plot(thresholds, sensitivities)\n",
    "plt.xlabel(\"Threshold\")\n",
    "plt.ylabel(\"Sensitivity\")"
   ]
  },
  {
   "cell_type": "code",
   "execution_count": 54,
   "metadata": {},
   "outputs": [
    {
     "data": {
      "text/plain": [
       "Text(0, 0.5, 'FAR')"
      ]
     },
     "execution_count": 54,
     "metadata": {},
     "output_type": "execute_result"
    },
    {
     "data": {
      "image/png": "[encoded data removed]",
      "text/plain": [
       "<Figure size 432x288 with 1 Axes>"
      ]
     },
     "metadata": {
      "needs_background": "light"
     },
     "output_type": "display_data"
    }
   ],
   "source": [
    "plt.plot(thresholds, fars)\n",
    "plt.xlabel(\"Thresholds\")\n",
    "plt.ylabel(\"FAR\")"
   ]
  },
  {
   "cell_type": "code",
   "execution_count": 55,
   "metadata": {},
   "outputs": [
    {
     "data": {
      "text/plain": [
       "(0.9639033343530131, 0.3382131096963843)"
      ]
     },
     "execution_count": 55,
     "metadata": {},
     "output_type": "execute_result"
    }
   ],
   "source": [
    "np.max(accuracies), thresholds[np.argmax(accuracies)]"
   ]
  },
  {
   "cell_type": "code",
   "execution_count": null,
   "metadata": {},
   "outputs": [],
   "source": []
  }
 ],
 "metadata": {
  "kernelspec": {
   "display_name": "Python 3",
   "language": "python",
   "name": "python3"
  },
  "language_info": {
   "codemirror_mode": {
    "name": "ipython",
    "version": 3
   },
   "file_extension": ".py",
   "mimetype": "text/x-python",
   "name": "python",
   "nbconvert_exporter": "python",
   "pygments_lexer": "ipython3",
   "version": "3.7.4"
  }
 },
 "nbformat": 4,
 "nbformat_minor": 4
}
